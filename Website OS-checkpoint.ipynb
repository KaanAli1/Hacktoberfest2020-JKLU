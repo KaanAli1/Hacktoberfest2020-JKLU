{
 "cells": [
  {
   "cell_type": "code",
   "execution_count": 11,
   "metadata": {},
   "outputs": [
    {
     "name": "stdout",
     "output_type": "stream",
     "text": [
      "Populating the interactive namespace from numpy and matplotlib\n"
     ]
    }
   ],
   "source": [
    "import pandas as pd\n",
    "import matplotlib.pyplot as plt\n",
    "%pylab inline"
   ]
  },
  {
   "cell_type": "code",
   "execution_count": 12,
   "metadata": {},
   "outputs": [
    {
     "data": {
      "text/html": [
       "<div>\n",
       "<style scoped>\n",
       "    .dataframe tbody tr th:only-of-type {\n",
       "        vertical-align: middle;\n",
       "    }\n",
       "\n",
       "    .dataframe tbody tr th {\n",
       "        vertical-align: top;\n",
       "    }\n",
       "\n",
       "    .dataframe thead th {\n",
       "        text-align: right;\n",
       "    }\n",
       "</style>\n",
       "<table border=\"1\" class=\"dataframe\">\n",
       "  <thead>\n",
       "    <tr style=\"text-align: right;\">\n",
       "      <th></th>\n",
       "      <th>Item</th>\n",
       "      <th>Value</th>\n",
       "      <th>Value Percent</th>\n",
       "      <th>Conversions</th>\n",
       "      <th>Conversion Percent</th>\n",
       "      <th>URL</th>\n",
       "      <th>Stats URL</th>\n",
       "    </tr>\n",
       "  </thead>\n",
       "  <tbody>\n",
       "    <tr>\n",
       "      <th>0</th>\n",
       "      <td>Windows 7</td>\n",
       "      <td>3290</td>\n",
       "      <td>26.2</td>\n",
       "      <td>NaN</td>\n",
       "      <td>NaN</td>\n",
       "      <td>NaN</td>\n",
       "      <td>http://clicky.com/stats/visitors?site_id=10075...</td>\n",
       "    </tr>\n",
       "    <tr>\n",
       "      <th>1</th>\n",
       "      <td>Mac OS X</td>\n",
       "      <td>2362</td>\n",
       "      <td>18.8</td>\n",
       "      <td>NaN</td>\n",
       "      <td>NaN</td>\n",
       "      <td>NaN</td>\n",
       "      <td>http://clicky.com/stats/visitors?site_id=10075...</td>\n",
       "    </tr>\n",
       "    <tr>\n",
       "      <th>2</th>\n",
       "      <td>Android</td>\n",
       "      <td>1922</td>\n",
       "      <td>15.3</td>\n",
       "      <td>NaN</td>\n",
       "      <td>NaN</td>\n",
       "      <td>NaN</td>\n",
       "      <td>http://clicky.com/stats/visitors?site_id=10075...</td>\n",
       "    </tr>\n",
       "    <tr>\n",
       "      <th>3</th>\n",
       "      <td>Windows 8.1</td>\n",
       "      <td>1510</td>\n",
       "      <td>12.0</td>\n",
       "      <td>NaN</td>\n",
       "      <td>NaN</td>\n",
       "      <td>NaN</td>\n",
       "      <td>http://clicky.com/stats/visitors?site_id=10075...</td>\n",
       "    </tr>\n",
       "    <tr>\n",
       "      <th>4</th>\n",
       "      <td>iPhone</td>\n",
       "      <td>1431</td>\n",
       "      <td>11.4</td>\n",
       "      <td>NaN</td>\n",
       "      <td>NaN</td>\n",
       "      <td>NaN</td>\n",
       "      <td>http://clicky.com/stats/visitors?site_id=10075...</td>\n",
       "    </tr>\n",
       "  </tbody>\n",
       "</table>\n",
       "</div>"
      ],
      "text/plain": [
       "          Item  Value  Value Percent  Conversions  Conversion Percent  URL  \\\n",
       "0    Windows 7   3290           26.2          NaN                 NaN  NaN   \n",
       "1     Mac OS X   2362           18.8          NaN                 NaN  NaN   \n",
       "2      Android   1922           15.3          NaN                 NaN  NaN   \n",
       "3  Windows 8.1   1510           12.0          NaN                 NaN  NaN   \n",
       "4       iPhone   1431           11.4          NaN                 NaN  NaN   \n",
       "\n",
       "                                           Stats URL  \n",
       "0  http://clicky.com/stats/visitors?site_id=10075...  \n",
       "1  http://clicky.com/stats/visitors?site_id=10075...  \n",
       "2  http://clicky.com/stats/visitors?site_id=10075...  \n",
       "3  http://clicky.com/stats/visitors?site_id=10075...  \n",
       "4  http://clicky.com/stats/visitors?site_id=10075...  "
      ]
     },
     "execution_count": 12,
     "metadata": {},
     "output_type": "execute_result"
    }
   ],
   "source": [
    "data = pd.read_csv(\"operating-systems.csv\")\n",
    "data.head()"
   ]
  },
  {
   "cell_type": "code",
   "execution_count": 13,
   "metadata": {},
   "outputs": [
    {
     "data": {
      "text/plain": [
       "Index(['Item', 'Value', 'Value Percent', 'Conversions', 'Conversion Percent',\n",
       "       'URL', 'Stats URL'],\n",
       "      dtype='object')"
      ]
     },
     "execution_count": 13,
     "metadata": {},
     "output_type": "execute_result"
    }
   ],
   "source": [
    "data.columns"
   ]
  },
  {
   "cell_type": "code",
   "execution_count": 14,
   "metadata": {},
   "outputs": [
    {
     "data": {
      "text/plain": [
       "0     3290\n",
       "1     2362\n",
       "2     1922\n",
       "3     1510\n",
       "4     1431\n",
       "5      932\n",
       "6      578\n",
       "7      191\n",
       "8      168\n",
       "9       50\n",
       "10      45\n",
       "11      39\n",
       "12      19\n",
       "13       8\n",
       "14       5\n",
       "15       3\n",
       "16       1\n",
       "17       1\n",
       "18       1\n",
       "Name: Value, dtype: int64"
      ]
     },
     "execution_count": 14,
     "metadata": {},
     "output_type": "execute_result"
    }
   ],
   "source": [
    "data[\"Value\"]"
   ]
  },
  {
   "cell_type": "code",
   "execution_count": 15,
   "metadata": {},
   "outputs": [
    {
     "data": {
      "text/plain": [
       "0          Windows 7\n",
       "1           Mac OS X\n",
       "2            Android\n",
       "3        Windows 8.1\n",
       "4             iPhone\n",
       "5              Linux\n",
       "6       Ubuntu Linux\n",
       "7          Windows 8\n",
       "8         Windows XP\n",
       "9      Windows phone\n",
       "10         Chrome OS\n",
       "11     Windows Vista\n",
       "12    Unknown mobile\n",
       "13           Windows\n",
       "14        Windows 10\n",
       "15        Blackberry\n",
       "16      Windows 2000\n",
       "17        Windows 98\n",
       "18           Symbian\n",
       "Name: Item, dtype: object"
      ]
     },
     "execution_count": 15,
     "metadata": {},
     "output_type": "execute_result"
    }
   ],
   "source": [
    "# This will not work! Whyyyyyy?\n",
    "#data[\"Item\"]\n",
    "data[\"Item\"]"
   ]
  },
  {
   "cell_type": "code",
   "execution_count": 16,
   "metadata": {},
   "outputs": [
    {
     "data": {
      "text/plain": [
       "0          Windows 7\n",
       "1           Mac OS X\n",
       "2            Android\n",
       "3        Windows 8.1\n",
       "4             iPhone\n",
       "5              Linux\n",
       "6       Ubuntu Linux\n",
       "7          Windows 8\n",
       "8         Windows XP\n",
       "9      Windows phone\n",
       "10         Chrome OS\n",
       "11     Windows Vista\n",
       "12    Unknown mobile\n",
       "13           Windows\n",
       "14        Windows 10\n",
       "15        Blackberry\n",
       "16      Windows 2000\n",
       "17        Windows 98\n",
       "18           Symbian\n",
       "Name: Item, dtype: object"
      ]
     },
     "execution_count": 16,
     "metadata": {},
     "output_type": "execute_result"
    }
   ],
   "source": [
    "data['Item']"
   ]
  },
  {
   "cell_type": "code",
   "execution_count": 17,
   "metadata": {},
   "outputs": [
    {
     "data": {
      "text/html": [
       "<div>\n",
       "<style scoped>\n",
       "    .dataframe tbody tr th:only-of-type {\n",
       "        vertical-align: middle;\n",
       "    }\n",
       "\n",
       "    .dataframe tbody tr th {\n",
       "        vertical-align: top;\n",
       "    }\n",
       "\n",
       "    .dataframe thead th {\n",
       "        text-align: right;\n",
       "    }\n",
       "</style>\n",
       "<table border=\"1\" class=\"dataframe\">\n",
       "  <thead>\n",
       "    <tr style=\"text-align: right;\">\n",
       "      <th></th>\n",
       "      <th>Operating System</th>\n",
       "      <th>Value</th>\n",
       "      <th>Value Percent</th>\n",
       "      <th>Conversions</th>\n",
       "      <th>Conversion Percent</th>\n",
       "      <th>URL</th>\n",
       "      <th>Stats URL</th>\n",
       "    </tr>\n",
       "  </thead>\n",
       "  <tbody>\n",
       "    <tr>\n",
       "      <th>0</th>\n",
       "      <td>Windows 7</td>\n",
       "      <td>3290</td>\n",
       "      <td>26.2</td>\n",
       "      <td>NaN</td>\n",
       "      <td>NaN</td>\n",
       "      <td>NaN</td>\n",
       "      <td>http://clicky.com/stats/visitors?site_id=10075...</td>\n",
       "    </tr>\n",
       "    <tr>\n",
       "      <th>1</th>\n",
       "      <td>Mac OS X</td>\n",
       "      <td>2362</td>\n",
       "      <td>18.8</td>\n",
       "      <td>NaN</td>\n",
       "      <td>NaN</td>\n",
       "      <td>NaN</td>\n",
       "      <td>http://clicky.com/stats/visitors?site_id=10075...</td>\n",
       "    </tr>\n",
       "    <tr>\n",
       "      <th>2</th>\n",
       "      <td>Android</td>\n",
       "      <td>1922</td>\n",
       "      <td>15.3</td>\n",
       "      <td>NaN</td>\n",
       "      <td>NaN</td>\n",
       "      <td>NaN</td>\n",
       "      <td>http://clicky.com/stats/visitors?site_id=10075...</td>\n",
       "    </tr>\n",
       "    <tr>\n",
       "      <th>3</th>\n",
       "      <td>Windows 8.1</td>\n",
       "      <td>1510</td>\n",
       "      <td>12.0</td>\n",
       "      <td>NaN</td>\n",
       "      <td>NaN</td>\n",
       "      <td>NaN</td>\n",
       "      <td>http://clicky.com/stats/visitors?site_id=10075...</td>\n",
       "    </tr>\n",
       "    <tr>\n",
       "      <th>4</th>\n",
       "      <td>iPhone</td>\n",
       "      <td>1431</td>\n",
       "      <td>11.4</td>\n",
       "      <td>NaN</td>\n",
       "      <td>NaN</td>\n",
       "      <td>NaN</td>\n",
       "      <td>http://clicky.com/stats/visitors?site_id=10075...</td>\n",
       "    </tr>\n",
       "  </tbody>\n",
       "</table>\n",
       "</div>"
      ],
      "text/plain": [
       "  Operating System  Value  Value Percent  Conversions  Conversion Percent  \\\n",
       "0        Windows 7   3290           26.2          NaN                 NaN   \n",
       "1         Mac OS X   2362           18.8          NaN                 NaN   \n",
       "2          Android   1922           15.3          NaN                 NaN   \n",
       "3      Windows 8.1   1510           12.0          NaN                 NaN   \n",
       "4           iPhone   1431           11.4          NaN                 NaN   \n",
       "\n",
       "   URL                                          Stats URL  \n",
       "0  NaN  http://clicky.com/stats/visitors?site_id=10075...  \n",
       "1  NaN  http://clicky.com/stats/visitors?site_id=10075...  \n",
       "2  NaN  http://clicky.com/stats/visitors?site_id=10075...  \n",
       "3  NaN  http://clicky.com/stats/visitors?site_id=10075...  \n",
       "4  NaN  http://clicky.com/stats/visitors?site_id=10075...  "
      ]
     },
     "execution_count": 17,
     "metadata": {},
     "output_type": "execute_result"
    }
   ],
   "source": [
    "data.rename(columns = {'Item' : \"Operating System\"}, inplace=True)\n",
    "data.head()"
   ]
  },
  {
   "cell_type": "code",
   "execution_count": 18,
   "metadata": {},
   "outputs": [],
   "source": [
    "os_new = data[[\"Operating System\", \"Value Percent\"]]"
   ]
  },
  {
   "cell_type": "code",
   "execution_count": 19,
   "metadata": {},
   "outputs": [
    {
     "data": {
      "text/html": [
       "<div>\n",
       "<style scoped>\n",
       "    .dataframe tbody tr th:only-of-type {\n",
       "        vertical-align: middle;\n",
       "    }\n",
       "\n",
       "    .dataframe tbody tr th {\n",
       "        vertical-align: top;\n",
       "    }\n",
       "\n",
       "    .dataframe thead th {\n",
       "        text-align: right;\n",
       "    }\n",
       "</style>\n",
       "<table border=\"1\" class=\"dataframe\">\n",
       "  <thead>\n",
       "    <tr style=\"text-align: right;\">\n",
       "      <th></th>\n",
       "      <th>Value Percent</th>\n",
       "    </tr>\n",
       "    <tr>\n",
       "      <th>Operating System</th>\n",
       "      <th></th>\n",
       "    </tr>\n",
       "  </thead>\n",
       "  <tbody>\n",
       "    <tr>\n",
       "      <th>Windows 7</th>\n",
       "      <td>26.2</td>\n",
       "    </tr>\n",
       "    <tr>\n",
       "      <th>Mac OS X</th>\n",
       "      <td>18.8</td>\n",
       "    </tr>\n",
       "    <tr>\n",
       "      <th>Android</th>\n",
       "      <td>15.3</td>\n",
       "    </tr>\n",
       "    <tr>\n",
       "      <th>Windows 8.1</th>\n",
       "      <td>12.0</td>\n",
       "    </tr>\n",
       "    <tr>\n",
       "      <th>iPhone</th>\n",
       "      <td>11.4</td>\n",
       "    </tr>\n",
       "  </tbody>\n",
       "</table>\n",
       "</div>"
      ],
      "text/plain": [
       "                  Value Percent\n",
       "Operating System               \n",
       "Windows 7                  26.2\n",
       "Mac OS X                   18.8\n",
       "Android                    15.3\n",
       "Windows 8.1                12.0\n",
       "iPhone                     11.4"
      ]
     },
     "execution_count": 19,
     "metadata": {},
     "output_type": "execute_result"
    }
   ],
   "source": [
    "os_new.set_index(\"Operating System\", inplace=True)\n",
    "os_new.head()"
   ]
  },
  {
   "cell_type": "code",
   "execution_count": 20,
   "metadata": {},
   "outputs": [
    {
     "data": {
      "text/plain": [
       "<matplotlib.axes._subplots.AxesSubplot at 0x2a15fdadf60>"
      ]
     },
     "execution_count": 20,
     "metadata": {},
     "output_type": "execute_result"
    },
    {
     "data": {
      "image/png": "[encoded data removed]",
      "text/plain": [
       "<matplotlib.figure.Figure at 0x2a15fdad4e0>"
      ]
     },
     "metadata": {},
     "output_type": "display_data"
    }
   ],
   "source": [
    "explode = (0.1, 0, 0, 0, 0)\n",
    "colors_mine = ['yellowgreen', 'gold', 'lightskyblue', 'lightcoral', 'lightcyan']\n",
    "os_new[:5].plot(kind=\"pie\", y=\"Value Percent\",autopct='%.2f%%', shadow=True, explode=explode, legend = False, colors = colors_mine)"
   ]
  },
  {
   "cell_type": "code",
   "execution_count": null,
   "metadata": {},
   "outputs": [],
   "source": []
  },
  {
   "cell_type": "code",
   "execution_count": null,
   "metadata": {},
   "outputs": [],
   "source": []
  },
  {
   "cell_type": "code",
   "execution_count": null,
   "metadata": {},
   "outputs": [],
   "source": []
  }
 ],
 "metadata": {
  "kernelspec": {
   "display_name": "Python 3",
   "language": "python",
   "name": "python3"
  },
  "language_info": {
   "codemirror_mode": {
    "name": "ipython",
    "version": 3
   },
   "file_extension": ".py",
   "mimetype": "text/x-python",
   "name": "python",
   "nbconvert_exporter": "python",
   "pygments_lexer": "ipython3",
   "version": "3.6.4"
  }
 },
 "nbformat": 4,
 "nbformat_minor": 1
}
